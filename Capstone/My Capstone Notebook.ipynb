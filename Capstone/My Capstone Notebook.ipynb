{
    "cells": [
        {
            "metadata": {
                "collapsed": true
            },
            "cell_type": "markdown",
            "source": "# This notebook will be used mainly for the capstone project"
        },
        {
            "metadata": {},
            "cell_type": "code",
            "source": "import pandas as pd",
            "execution_count": 1,
            "outputs": []
        },
        {
            "metadata": {},
            "cell_type": "code",
            "source": "import numpy as np",
            "execution_count": 2,
            "outputs": []
        },
        {
            "metadata": {},
            "cell_type": "code",
            "source": "print(\"Hello Capstone Project Course!\")",
            "execution_count": 3,
            "outputs": [
                {
                    "output_type": "stream",
                    "text": "Hello Capstone Project Course!\n",
                    "name": "stdout"
                }
            ]
        },
        {
            "metadata": {},
            "cell_type": "markdown",
            "source": "# Part One of Capstone : Explain your problem and your data"
        },
        {
            "metadata": {},
            "cell_type": "markdown",
            "source": "### 1. Introduction/Business Problem"
        },
        {
            "metadata": {},
            "cell_type": "markdown",
            "source": "Which city is the best city to live in?  This project will compare two cities, Toronto and New York City.  Both cities are very diverse and are the financial capitals of their respective countries. When the two are compared, which one will be considered the best city to live in?  For someone who is looking between New York City and Toronto for a job relocation, for example, this is an important question.  Some things to consider for finding a new home are safety, housing market, and amenities such as restaurants, parks, and entertainment.  And within both cities, which neighborhood is the best to live in?  This project aims to provide insight and answer these questions based on the parameters. \n\n"
        },
        {
            "metadata": {},
            "cell_type": "markdown",
            "source": "### 2. Data"
        },
        {
            "metadata": {},
            "cell_type": "markdown",
            "source": "In order to answer these questions, we will need to pull data for each aspect of the search.  The data for the project will include geographical data such as neighbhorhoods and boroughs, crime data, housing data, and then data collected from Foursquare for restaurants, parks, and entertainments for both New York City and Toronto.  The geographical data will need to include neighborhoods, boroughs, and postal codes for both cities in order to use maps and segment into neighbhorhoods for the rest of the data for this project.\n\nThe crime data will need to include neighborhoods/boroughs, and lists of crime categories such as assault and theft for both cities.  This will provide insight for the relative safety of both cities both on the city-wide level and neighborhood level, which can be shown in a choropleth map.\n\nHousing data is also important in terms of whether or not you can afford to live in the cities.  The housing data needs to include renting prices, costs of houses, and preferably cost of living and organizes by neighborhoods or boroughs.\n\nThe data on amenities such as restaurants, parks, and entertainment (movie theaters, for example) will be found and collected using Foursquare.  This is important especially on the neighbhorhood level to make a decision on which neighborhood is the best to live in based on the amenities available.\n\nBy using these data, the project aims to accumulate a score for each neighborhood and an overall score for both cities.  "
        },
        {
            "metadata": {},
            "cell_type": "markdown",
            "source": "#### Sources for the Capstone Project Data"
        },
        {
            "metadata": {},
            "cell_type": "markdown",
            "source": "GEOGRAPHICAL DATA:\nThe geographical data for Toronto: https://en.wikipedia.org/w/index.php?title=List_of_postal_codes_of_Canada:_M&oldid=945633050 \nNew York City data will be  pulled from Geopy\n\nCRIME:\nCrime Data for New York - https://www1.nyc.gov/assets/nypd/downloads/excel/analysis_and_planning/historical-crime-data/seven-major-felony-offenses-2000-2019.xls.  This is the overal view by types of felonies and by year.\nhttps://www.kaggle.com/adamschroeder/crimes-new-york-city/download  -> the 2014 crime data set for all New York Boroughs found from https://www.kaggle.com/adamschroeder/crimes-new-york-city#Crime_Column_Description.csv\n\nCrime data for Toronto came from the site, http://data.torontopolice.on.ca/pages/open-data\n - Assault: https://opendata.arcgis.com/datasets/a5029dcd67214cc594a500865f868284_0.geojson\n -Auto Theft:https://opendata.arcgis.com/datasets/ca9730d5840343f7bfa3f5ffd16c2f0a_0.geojson\n -Break and Enter:https://opendata.arcgis.com/datasets/8ab59b498f6d4eae8ec631a287550376_0.geojson\n -Homicide:https://opendata.arcgis.com/datasets/7826a3ef2eff4d64a7f70e909de007b5_0.geojson\n -Robbery:https://opendata.arcgis.com/datasets/9115accc55f24938b4eb573dd222c33b_0.geojson\n -Theft Over: https://opendata.arcgis.com/datasets/19d66b66abe749e7b5be1a86e272f8ea_0.geojson\n\n\nHOUSING PRICES:\nHousing prices for New York\nHousing dataset (rental): ('C:\\Users\\Amanda\\Desktop\\NYC Housing Data\\clean2.csv') from https://www.kaggle.com/ted8080/nyc-housing-dataset-extrinsic-factors\n\nHousing prices for Toronto\nApartmental rentals : ('C:\\Users\\Amanda\\Desktop\\Toronto Housing Data\\Toronto Apartment Rental\\Toronto_apartment_rentals_2018') from https://www.kaggle.com/rajacsp/toronto-apartment-price \nHouse sales : ('C:\\Users\\Amanda\\Desktop\\Toronto Housing Data\\Ontario House Sales\\properties.csv') from https://www.kaggle.com/mnabaee/ontarioproperties\n\nAMENITIES:\nRestaurants\nBoutiques\nEntertainmnet (Movie Theaters, Bowling, Bars, etc)\nWill be found on Foursquare"
        },
        {
            "metadata": {},
            "cell_type": "markdown",
            "source": "# Part Two of Capstone: The Data Manipulation and Analysis"
        },
        {
            "metadata": {},
            "cell_type": "markdown",
            "source": "## Pull All The Data and Preprocess Them"
        },
        {
            "metadata": {},
            "cell_type": "code",
            "source": "#import all the libraries\nimport numpy as np # library to handle data in a vectorized manner\nimport pandas as pd # library for data analsysis\npd.set_option('display.max_columns', None)\npd.set_option('display.max_rows', None)\nimport json # library to handle JSON files\n#!conda install -c conda-forge geopy --yes # uncomment this line if you haven't completed the Foursquare API lab *already downloaded\nfrom geopy.geocoders import Nominatim # convert an address into latitude and longitude values\nimport requests # library to handle requests\nfrom pandas.io.json import json_normalize # tranform JSON file into a pandas dataframe\n# Matplotlib and associated plotting modules\nimport matplotlib.cm as cm\nimport matplotlib.colors as colors\n# import k-means from clustering stage\nfrom sklearn.cluster import KMeans\n#!conda install -c conda-forge folium=0.5.0 --yes # uncomment this line if you haven't completed the Foursquare API lab\nimport folium # map rendering library\nprint('Libraries imported.')",
            "execution_count": 3,
            "outputs": [
                {
                    "output_type": "stream",
                    "text": "Solving environment: done\n\n## Package Plan ##\n\n  environment location: /opt/conda/envs/Python36\n\n  added / updated specs: \n    - geopy\n\n\nThe following packages will be downloaded:\n\n    package                    |            build\n    ---------------------------|-----------------\n    ca-certificates-2020.4.5.1 |       hecc5488_0         146 KB  conda-forge\n    geographiclib-1.50         |             py_0          34 KB  conda-forge\n    python_abi-3.6             |          1_cp36m           4 KB  conda-forge\n    certifi-2020.4.5.1         |   py36h9f0ad1d_0         151 KB  conda-forge\n    openssl-1.1.1f             |       h516909a_0         2.1 MB  conda-forge\n    geopy-1.21.0               |             py_0          58 KB  conda-forge\n    ------------------------------------------------------------\n                                           Total:         2.5 MB\n\nThe following NEW packages will be INSTALLED:\n\n    geographiclib:   1.50-py_0         conda-forge\n    geopy:           1.21.0-py_0       conda-forge\n    python_abi:      3.6-1_cp36m       conda-forge\n\nThe following packages will be UPDATED:\n\n    ca-certificates: 2020.1.1-0                    --> 2020.4.5.1-hecc5488_0     conda-forge\n    certifi:         2019.11.28-py36_0             --> 2020.4.5.1-py36h9f0ad1d_0 conda-forge\n    openssl:         1.1.1e-h7b6447c_0             --> 1.1.1f-h516909a_0         conda-forge\n\n\nDownloading and Extracting Packages\nca-certificates-2020 | 146 KB    | ##################################### | 100% \ngeographiclib-1.50   | 34 KB     | ##################################### | 100% \npython_abi-3.6       | 4 KB      | ##################################### | 100% \ncertifi-2020.4.5.1   | 151 KB    | ##################################### | 100% \nopenssl-1.1.1f       | 2.1 MB    | ##################################### | 100% \ngeopy-1.21.0         | 58 KB     | ##################################### | 100% \nPreparing transaction: done\nVerifying transaction: done\nExecuting transaction: done\nSolving environment: done\n\n## Package Plan ##\n\n  environment location: /opt/conda/envs/Python36\n\n  added / updated specs: \n    - folium=0.5.0\n\n\nThe following packages will be downloaded:\n\n    package                    |            build\n    ---------------------------|-----------------\n    branca-0.4.0               |             py_0          26 KB  conda-forge\n    vincent-0.4.4              |             py_1          28 KB  conda-forge\n    folium-0.5.0               |             py_0          45 KB  conda-forge\n    altair-4.1.0               |             py_1         614 KB  conda-forge\n    ------------------------------------------------------------\n                                           Total:         713 KB\n\nThe following NEW packages will be INSTALLED:\n\n    altair:  4.1.0-py_1 conda-forge\n    branca:  0.4.0-py_0 conda-forge\n    folium:  0.5.0-py_0 conda-forge\n    vincent: 0.4.4-py_1 conda-forge\n\n\nDownloading and Extracting Packages\nbranca-0.4.0         | 26 KB     | ##################################### | 100% \nvincent-0.4.4        | 28 KB     | ##################################### | 100% \nfolium-0.5.0         | 45 KB     | ##################################### | 100% \naltair-4.1.0         | 614 KB    | ##################################### | 100% \nPreparing transaction: done\nVerifying transaction: done\nExecuting transaction: done\nLibraries imported.\n",
                    "name": "stdout"
                }
            ]
        },
        {
            "metadata": {},
            "cell_type": "code",
            "source": "#Toronto Geographical Data on Neighbhorhoods/Boroughs\nTor_url='https://en.wikipedia.org/w/index.php?title=List_of_postal_codes_of_Canada:_M&oldid=945633050'\nTor_df = pd.read_html(Tor_url)\nTor_df_postcodes=Tor_df[0]\nprint('imported dataframe has', Tor_df_postcodes['Postcode'].count(), \"postcodes entriess\")\nTor_df_postcodes.head(10)\n#df_postcodes.dtypes\n\n#New York Geographical Data on Neighborhoods/Boroughs\n!wget -q -O 'newyork_data.json' https://cocl.us/new_york_dataset\nprint('Data downloaded!')\n\nwith open('newyork_data.json') as json_data:\n    newyork_data = json.load(json_data)\nnewyork_data\n\n##Transform the New York Data into a dataframe\n # define the dataframe columns\ncolumn_names = ['Borough', 'Neighborhood', 'Latitude', 'Longitude'] \n\n # instantiate the dataframe\nNY_df = pd.DataFrame(columns=column_names)\n #put New York Data in dataframe\nfor data in NY_df:\n    borough = neighborhood_name = data['properties']['borough'] \n    neighborhood_name = data['properties']['name']\n        \n    neighborhood_latlon = data['geometry']['coordinates']\n    neighborhood_lat = neighborhood_latlon[1]\n    neighborhood_lon = neighborhood_latlon[0]\n    \n    NY_df = NY_df.append({'Borough': borough,\n                                          'Neighborhood': neighborhood_name,\n                                          'Latitude': neighborhood_lat,\n                                          'Longitude': neighborhood_lon}, ignore_index=True)",
            "execution_count": 7,
            "outputs": [
                {
                    "output_type": "stream",
                    "text": "imported dataframe has 287 postcodes entriess\nData downloaded!\n",
                    "name": "stdout"
                },
                {
                    "output_type": "error",
                    "ename": "TypeError",
                    "evalue": "string indices must be integers",
                    "traceback": [
                        "\u001b[0;31m---------------------------------------------------------------------------\u001b[0m",
                        "\u001b[0;31mTypeError\u001b[0m                                 Traceback (most recent call last)",
                        "\u001b[0;32m<ipython-input-7-36b367eb0653>\u001b[0m in \u001b[0;36m<module>\u001b[0;34m\u001b[0m\n\u001b[1;32m     23\u001b[0m  \u001b[0;31m#put New York Data in dataframe\u001b[0m\u001b[0;34m\u001b[0m\u001b[0;34m\u001b[0m\u001b[0;34m\u001b[0m\u001b[0m\n\u001b[1;32m     24\u001b[0m \u001b[0;32mfor\u001b[0m \u001b[0mdata\u001b[0m \u001b[0;32min\u001b[0m \u001b[0mNY_df\u001b[0m\u001b[0;34m:\u001b[0m\u001b[0;34m\u001b[0m\u001b[0;34m\u001b[0m\u001b[0m\n\u001b[0;32m---> 25\u001b[0;31m     \u001b[0mborough\u001b[0m \u001b[0;34m=\u001b[0m \u001b[0mneighborhood_name\u001b[0m \u001b[0;34m=\u001b[0m \u001b[0mdata\u001b[0m\u001b[0;34m[\u001b[0m\u001b[0;34m'properties'\u001b[0m\u001b[0;34m]\u001b[0m\u001b[0;34m[\u001b[0m\u001b[0;34m'borough'\u001b[0m\u001b[0;34m]\u001b[0m\u001b[0;34m\u001b[0m\u001b[0;34m\u001b[0m\u001b[0m\n\u001b[0m\u001b[1;32m     26\u001b[0m     \u001b[0mneighborhood_name\u001b[0m \u001b[0;34m=\u001b[0m \u001b[0mdata\u001b[0m\u001b[0;34m[\u001b[0m\u001b[0;34m'properties'\u001b[0m\u001b[0;34m]\u001b[0m\u001b[0;34m[\u001b[0m\u001b[0;34m'name'\u001b[0m\u001b[0;34m]\u001b[0m\u001b[0;34m\u001b[0m\u001b[0;34m\u001b[0m\u001b[0m\n\u001b[1;32m     27\u001b[0m \u001b[0;34m\u001b[0m\u001b[0m\n",
                        "\u001b[0;31mTypeError\u001b[0m: string indices must be integers"
                    ]
                }
            ]
        },
        {
            "metadata": {},
            "cell_type": "code",
            "source": "#Preprocessing\n#Toronto - Get rid of the \"Not assigned\" / Replace\n#df_postcodes[\"Borough\"].replace(\"nan\", \"Not assigned\", inplace=True)\n#df_postcodes[\"Neighbourhood\"].replace(\"nan\", \"Not assigned\", inplace=True)\n\nTor_df_postcodes = df_postcodes[df_postcodes[\"Borough\"] != \"Not assigned\"]\n#df_postcodes.dropna(subset=[\"Borough\"], axis=0, inplace=True)\n\n#Replace the N/A values of Neighborhood with the Borough Value\nTor_df_postcodes[\"Neighbourhood\"].replace(\"Not assigned\", df_postcodes[\"Borough\"], inplace=True)\n\nTor_df_postcodes.head(20)\n\n#Now combine all the neighbourhoods with the same postal codes\ndf = df_postcodes.groupby([\"Postcode\",\"Borough\"])[\"Neighbourhood\"].apply(list)\ndf = df.sample(frac=1).reset_index()\ndf[\"Neighbourhood\"] = df[\"Neighbourhood\"].str.join(', ')\ndf.head(10)",
            "execution_count": null,
            "outputs": []
        },
        {
            "metadata": {},
            "cell_type": "markdown",
            "source": "## Use geopy library to get the latitude and longitude values of New York City and Toronto"
        },
        {
            "metadata": {},
            "cell_type": "code",
            "source": "#Toronto\n#!pip install geocoder\n#import geocoder\n\nTorlat_list=[]\nTorlng_list=[]\nfor i in range(df.shape[0]):\n    address='{}, Toronto, Ontario'.format(Tor_df.at[i,'Postcode'])\n    g=geocoder.arcgis(address)\n    Torlat_list.append(g.latlng[0])\n    Torlng_list.append(g.latlng[1])\n    \n\n#df.drop(['Postal Code_x', 'Latitude_x', 'Longitude_x','Postal Code_y'],axis=1, inplace=True)\nTor_df.drop(['Postal Code_y'], axis=1, inplace=True)\nTor_df.rename(columns= {'Latitude_y':'Latitude', 'Longitude_y':'Longitude'}, inplace=True)\n\nTor_df.head(10)\n\nToraddress = 'Toronto, Ontario'\n\ngeolocator = Nominatim(user_agent=\"Toronto_explorer\")\nTorlocation = geolocator.geocode(Toraddress)\nTorlatitude = location.latitude\nTorlongitude = location.longitude\nprint('The geograpical coordinate of Toronto are {}, {}.'.format(latitude, longitude))",
            "execution_count": 4,
            "outputs": []
        },
        {
            "metadata": {},
            "cell_type": "code",
            "source": "#New York\nNYaddress = 'New York City, NY'\n\ngeolocator = Nominatim(user_agent=\"ny_explorer\")\nNYlocation = geolocator.geocode(NYaddress)\nNYlatitude = location.latitude\nNYlongitude = location.longitude\nprint('The geograpical coordinate of New York City are {}, {}.'.format(latitude, longitude))",
            "execution_count": null,
            "outputs": []
        },
        {
            "metadata": {},
            "cell_type": "markdown",
            "source": "## Maps"
        },
        {
            "metadata": {},
            "cell_type": "code",
            "source": "#Toronto\n# create map of New York using latitude and longitude values\nmap_toronto = folium.Map(location=[Torlatitude, Torlongitude], zoom_start=10)\n\n# add markers to map\nfor lat, lng, borough, neighbourhood in zip(Tor_df['Latitude'], Tor_df['Longitude'], Tor_df['Borough'], Tor_df['Neighbourhood']):\n    label ='{}, {}'.format(neighbourhood, borough) \n    label = folium.Popup(label, parse_html=True)\n    folium.CircleMarker(\n        [lat, lng],\n        radius=5,\n        popup=label,\n        color='blue',\n        fill=True,\n        fill_color='#3186cc',\n        fill_opacity=0.7,\n        parse_html=False).add_to(map_toronto)  \n    \nmap_toronto",
            "execution_count": 5,
            "outputs": []
        },
        {
            "metadata": {},
            "cell_type": "code",
            "source": "#New York\n# create map of New York using latitude and longitude values\nmap_newyork = folium.Map(location=[NYlatitude, NYlongitude], zoom_start=10)\n\n# add markers to map\nfor lat, lng, borough, neighborhood in zip(NY_df['Latitude'], NY_df['Longitude'], NY_df['Borough'], NY_df['Neighborhood']):\n    label = '{}, {}'.format(neighborhood, borough)\n    label = folium.Popup(label, parse_html=True)\n    folium.CircleMarker(\n        [lat, lng],\n        radius=5,\n        popup=label,\n        color='blue',\n        fill=True,\n        fill_color='#3186cc',\n        fill_opacity=0.7,\n        parse_html=False).add_to(map_newyork)  \n    \nmap_newyork",
            "execution_count": 6,
            "outputs": []
        },
        {
            "metadata": {},
            "cell_type": "code",
            "source": "",
            "execution_count": null,
            "outputs": []
        }
    ],
    "metadata": {
        "kernelspec": {
            "name": "python3",
            "display_name": "Python 3.6",
            "language": "python"
        },
        "language_info": {
            "name": "python",
            "version": "3.6.9",
            "mimetype": "text/x-python",
            "codemirror_mode": {
                "name": "ipython",
                "version": 3
            },
            "pygments_lexer": "ipython3",
            "nbconvert_exporter": "python",
            "file_extension": ".py"
        }
    },
    "nbformat": 4,
    "nbformat_minor": 1
}
